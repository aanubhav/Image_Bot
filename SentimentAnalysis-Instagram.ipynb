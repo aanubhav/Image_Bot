{
 "cells": [
  {
   "cell_type": "markdown",
   "metadata": {},
   "source": [
    "# Public Sentiment Analysis using Social Media"
   ]
  },
  {
   "cell_type": "markdown",
   "metadata": {},
   "source": [
    "The Web is a huge virtual space where to express and share individual opinions, influencing any aspect of life, with implications for marketing and communication alike. Social Media are influencing consumers' preferences by shaping their attitudes and behaviors. Monitoring the Social Media activities is a good way to measure customers' loyalty, keeping a track on their sentiment towards brands or products. Social Media are the next logical marketing arena.  \n",
    "\n",
    "Sentiment Analysis on Social Media (PDF Download Available). Available from: https://www.researchgate.net/publication/230758119_Sentiment_Analysis_on_Social_Media "
   ]
  },
  {
   "cell_type": "code",
   "execution_count": 28,
   "metadata": {},
   "outputs": [
    {
     "name": "stdout",
     "output_type": "stream",
     "text": [
      "\t\tTypical Description of marketing using sentiment analysis\n",
      "\n"
     ]
    },
    {
     "data": {
      "text/html": [
       "<img src=\"sent1.png\"/>"
      ],
      "text/plain": [
       "<IPython.core.display.Image object>"
      ]
     },
     "execution_count": 28,
     "metadata": {},
     "output_type": "execute_result"
    }
   ],
   "source": [
    "from IPython.display import Image\n",
    "from IPython.core.display import HTML \n",
    "print \"\\t\\tTypical Description of marketing using sentiment analysis\\n\"\n",
    "Image(url= \"sent1.png\")\n"
   ]
  },
  {
   "cell_type": "code",
   "execution_count": 29,
   "metadata": {},
   "outputs": [
    {
     "name": "stdout",
     "output_type": "stream",
     "text": [
      "\t\tSentiment Analysis Best Practices:\n",
      "\n",
      "\n"
     ]
    },
    {
     "data": {
      "text/html": [
       "<img src=\"sent2.png\"/>"
      ],
      "text/plain": [
       "<IPython.core.display.Image object>"
      ]
     },
     "execution_count": 29,
     "metadata": {},
     "output_type": "execute_result"
    }
   ],
   "source": [
    "print \"\\t\\tSentiment Analysis Best Practices:\\n\\n\"\n",
    "Image(url= \"sent2.png\")"
   ]
  },
  {
   "cell_type": "markdown",
   "metadata": {},
   "source": [
    "#### Types of sentiment analysis:\n",
    "\n",
    "   * Tweets\n",
    "   * Facebook/Instagram Posts\n",
    "   * Comments\n",
    "   * Blogs\n",
    "   * Product Reviews / Customer Reviews\n",
    "   * News Articles\n",
    "    "
   ]
  },
  {
   "cell_type": "markdown",
   "metadata": {},
   "source": [
    "<font size=3>**In this part of the project** we will be doing the sentiment analysis on the user's post for the __Instagram__ data<br>we will start off by importing the useful dependencies\n",
    "</font>"
   ]
  },
  {
   "cell_type": "code",
   "execution_count": 30,
   "metadata": {},
   "outputs": [],
   "source": [
    "from AccessToken import APP_ACCESS_TOKEN, BASE_URL\n",
    "from textblob import TextBlob\n",
    "from textblob.sentiments import NaiveBayesAnalyzer\n",
    "import matplotlib.pyplot as plt\n",
    "import requests\n",
    "import urllib"
   ]
  },
  {
   "cell_type": "markdown",
   "metadata": {},
   "source": [
    "<font size=3>Now before starting interacting with the instagram api,we first need to make a instagram developer account on <a href=\"https://www.instagram.com/developer/\">here</a> , after registering we get a __App Access token__ this will be useful to interact with the instagram api,after having the key we are ready to go<br><br>Now to interact with the Instagram endpoints <a href=\"https://www.instagram.com/developer/endpoints/\">(here)</a> \n",
    "    \n",
    "openup the documentation to get the interating url\n",
    " </font>\n",
    "\n"
   ]
  },
  {
   "cell_type": "markdown",
   "metadata": {},
   "source": [
    "<font size=3>\n",
    "The first method we write is to get the self information<br><br>For Example<br><br>\n",
    "<p style=\"text-align:center;\">This is the type of response that is recieved when interacting with the Api</p>    <img src=\"self_info1.png\" alt=\"Girl in a jacket\">\n",
    "</font>\n"
   ]
  },
  {
   "cell_type": "markdown",
   "metadata": {},
   "source": [
    "<font size=3>\n",
    "Below are a few methods to get \n",
    "  <ul>\n",
    "  <li>Self Information</li>\n",
    "  <li>User ID</li>\n",
    "  <li>User Info</li>\n",
    " \n",
    "</ul>  \n",
    "<font>"
   ]
  },
  {
   "cell_type": "code",
   "execution_count": 31,
   "metadata": {},
   "outputs": [],
   "source": [
    "# method for getting self information using requests\n",
    "def self_info():\n",
    "    request_url = (BASE_URL + '/users/self/?access_token=%s') % APP_ACCESS_TOKEN\n",
    "    print 'Requesting info for: '+request_url\n",
    "    # the reply from the api is in json format\n",
    "    my_info = requests.get(request_url).json()\n",
    "    if my_info['meta']['code'] == 200:\n",
    "        if len(my_info['data']):\n",
    "            print 'Username : %s'% (my_info['data']['username'])\n",
    "            print 'No. of followers : %s'% (my_info['data']['counts']['followed_by'])\n",
    "            print '# people you are following: %s'% (my_info['data']['counts']['follows'])\n",
    "            print 'No. of posts: %s'% (my_info['data']['counts']['media'])\n",
    "        else:\n",
    "            print 'No such user exists'\n",
    "    else:\n",
    "        print 'Error occurred'"
   ]
  },
  {
   "cell_type": "code",
   "execution_count": 32,
   "metadata": {},
   "outputs": [
    {
     "name": "stdout",
     "output_type": "stream",
     "text": [
      "Requesting info for: https://api.instagram.com/v1/users/self/?access_token=1777079232.3f4b954.a346d80dd2d94849981fff6218816764\n",
      "Username : aanubhavanand\n",
      "No. of followers : 0\n",
      "# people you are following: 137\n",
      "No. of posts: 0\n"
     ]
    }
   ],
   "source": [
    "self_info()"
   ]
  },
  {
   "cell_type": "code",
   "execution_count": 33,
   "metadata": {},
   "outputs": [],
   "source": [
    "# method to get userid by a username\n",
    "def get_user_id(insta_username):\n",
    "    request_url = (BASE_URL + '/users/search?q=%s&access_token=%s') % (insta_username, APP_ACCESS_TOKEN)\n",
    "    print 'GET request url for user id : %s' % request_url\n",
    "    user_info = requests.get(request_url).json()\n",
    "\n",
    "    if user_info['meta']['code'] == 200:\n",
    "        if len(user_info['data']):\n",
    "            return user_info['data'][0]['id']\n",
    "        else:\n",
    "            return None\n",
    "    else:\n",
    "        print 'Status code other than 200 received!'\n",
    "        exit()"
   ]
  },
  {
   "cell_type": "code",
   "execution_count": 34,
   "metadata": {},
   "outputs": [
    {
     "name": "stdout",
     "output_type": "stream",
     "text": [
      "GET request url for user id : https://api.instagram.com/v1/users/search?q=aanubhavanand&access_token=1777079232.3f4b954.a346d80dd2d94849981fff6218816764\n"
     ]
    },
    {
     "data": {
      "text/plain": [
       "u'1777079232'"
      ]
     },
     "execution_count": 34,
     "metadata": {},
     "output_type": "execute_result"
    }
   ],
   "source": [
    "get_user_id('aanubhavanand')"
   ]
  },
  {
   "cell_type": "code",
   "execution_count": 35,
   "metadata": {},
   "outputs": [],
   "source": [
    "# method for user information from id retrieved by get_user_id()\n",
    "def get_user_info(insta_username):\n",
    "    user_id = get_user_id(insta_username)\n",
    "    if user_id == None:\n",
    "        print 'User does not exist!'\n",
    "        exit()\n",
    "    request_url = (BASE_URL + '/users/%s?access_token=%s') % (user_id, APP_ACCESS_TOKEN)\n",
    "    print 'GET request url : %s' % request_url\n",
    "    user_info = requests.get(request_url).json()\n",
    "\n",
    "    if user_info['meta']['code'] == 200:\n",
    "        if len(user_info['data']):\n",
    "            print 'Username: %s' % (user_info['data']['username'])\n",
    "            print 'No. of followers: %s' % (user_info['data']['counts']['followed_by'])\n",
    "            print 'No. of people you are following: %s' % (user_info['data']['counts']['follows'])\n",
    "            print 'No. of posts: %s' % (user_info['data']['counts']['media'])\n",
    "        else:\n",
    "            print 'There is no data for this user!'\n",
    "    else:\n",
    "        print 'Status code other than 200 received!'\n",
    "        \n"
   ]
  },
  {
   "cell_type": "code",
   "execution_count": 36,
   "metadata": {},
   "outputs": [
    {
     "name": "stdout",
     "output_type": "stream",
     "text": [
      "GET request url for user id : https://api.instagram.com/v1/users/search?q=aanubhavanand&access_token=1777079232.3f4b954.a346d80dd2d94849981fff6218816764\n",
      "GET request url : https://api.instagram.com/v1/users/1777079232?access_token=1777079232.3f4b954.a346d80dd2d94849981fff6218816764\n",
      "Username: aanubhavanand\n",
      "No. of followers: 0\n",
      "No. of people you are following: 137\n",
      "No. of posts: 0\n"
     ]
    }
   ],
   "source": [
    "get_user_info('aanubhavanand')"
   ]
  },
  {
   "cell_type": "code",
   "execution_count": null,
   "metadata": {},
   "outputs": [],
   "source": []
  },
  {
   "cell_type": "code",
   "execution_count": 37,
   "metadata": {},
   "outputs": [],
   "source": [
    "# method for self recent posts\n",
    "def get_own_post():\n",
    "    request_url = (BASE_URL + '/users/self/media/recent/?access_token=%s') % (APP_ACCESS_TOKEN)\n",
    "    print 'GET request url for own post : %s' % request_url\n",
    "    own_media = requests.get(request_url).json()\n",
    "\n",
    "    if own_media['meta']['code'] == 200:\n",
    "        if len(own_media['data']):\n",
    "            choose_post(own_media)\n",
    "            print 'Your post has been downloaded!'\n",
    "        else:\n",
    "            print 'Post does not exist!'\n",
    "    else:\n",
    "        print 'Status code other than 200 received!'"
   ]
  },
  {
   "cell_type": "code",
   "execution_count": 38,
   "metadata": {},
   "outputs": [
    {
     "name": "stdout",
     "output_type": "stream",
     "text": [
      "GET request url for own post : https://api.instagram.com/v1/users/self/media/recent/?access_token=1777079232.3f4b954.a346d80dd2d94849981fff6218816764\n",
      "Post does not exist!\n"
     ]
    }
   ],
   "source": [
    "get_own_post()"
   ]
  },
  {
   "cell_type": "code",
   "execution_count": 48,
   "metadata": {},
   "outputs": [],
   "source": [
    "# method for downloading user's recent media posts\n",
    "def get_user_post(insta_username):\n",
    "    user_id = get_user_id(insta_username)\n",
    "    if user_id == None:\n",
    "        print 'User does not exist!'\n",
    "        exit()\n",
    "    request_url = (BASE_URL + '/users/%s/media/recent/?access_token=%s') % (user_id, APP_ACCESS_TOKEN)\n",
    "    print 'GET request url for user post : %s' % request_url\n",
    "    user_media = requests.get(request_url).json()\n",
    "\n",
    "    if user_media['meta']['code'] == 200:\n",
    "        if len(user_media['data']):\n",
    "            name = choose_post(user_media)\n",
    "            print 'Your post has been downloaded!'\n",
    "            print 'http://localhost:8888/notebooks/'+name\n",
    "        else:\n",
    "            print 'Post does not exist!'\n",
    "    else:\n",
    "        print 'Status code other than 200 received!'"
   ]
  },
  {
   "cell_type": "code",
   "execution_count": 51,
   "metadata": {},
   "outputs": [
    {
     "name": "stdout",
     "output_type": "stream",
     "text": [
      "GET request url for user id : https://api.instagram.com/v1/users/search?q=forinstaprojects&access_token=1777079232.3f4b954.a346d80dd2d94849981fff6218816764\n",
      "GET request url for user post : https://api.instagram.com/v1/users/5633959407/media/recent/?access_token=1777079232.3f4b954.a346d80dd2d94849981fff6218816764\n",
      "1. Select Recent Image\n",
      "2. Select Least liked post\n",
      "3. Select Recent video \n",
      "enter the choice of post : 3\n",
      "Your post has been downloaded!\n",
      "http://localhost:8888/notebooks/1544709421665646253_5633959407.mp4\n"
     ]
    }
   ],
   "source": [
    "get_user_post('forinstaprojects')"
   ]
  },
  {
   "cell_type": "code",
   "execution_count": 50,
   "metadata": {},
   "outputs": [],
   "source": [
    "# method to select post according to user's choice\n",
    "def choose_post(user_media):\n",
    "    print '1. Select Recent Image\\n2. Select Least liked post\\n3. Select Recent video '\n",
    "    select = int(raw_input(\"enter the choice of post : \"))\n",
    "    if select == 1:\n",
    "        i = -1\n",
    "        for media in user_media['data']:\n",
    "            i = i+1\n",
    "            if media['type'] == 'image':\n",
    "                image_name = user_media['data'][i]['id'] + '.jpeg'\n",
    "                image_url = user_media['data'][i]['images']['standard_resolution']['url']\n",
    "                urllib.urlretrieve(image_url, image_name)\n",
    "                return image_name\n",
    "                break\n",
    "    elif select == 2:\n",
    "        lowest = user_media['data'][0]['likes']['count']\n",
    "        i=-1\n",
    "        for media in user_media['data']:\n",
    "            i = i+1\n",
    "            if media['likes']['count'] < lowest:\n",
    "                lowest = media['likes']['count']\n",
    "                index = i\n",
    "        if user_media['data'][index]['type'] == 'image':\n",
    "            image_name = \"least_liked.jpg\"\n",
    "            image_url = user_media['data'][index]['images']['standard_resolution']['url']\n",
    "            urllib.urlretrieve(image_url, image_name)\n",
    "            return image_name\n",
    "        elif user_media['data'][index]['type'] == 'video':\n",
    "            video_name = \"least_liked_video.mp4\"\n",
    "            video_url = user_media['data'][index]['videos']['standard_resolution']['url']\n",
    "            urllib.urlretrieve(video_url, video_name)\n",
    "            return video_name\n",
    "    elif select == 3:\n",
    "        i=-1\n",
    "        vid_index = -1\n",
    "        for media in user_media['data']:\n",
    "            i = i+1\n",
    "            if media['type'] == 'video':\n",
    "                vid_index = i\n",
    "        if vid_index == -1:\n",
    "            print \"no videos found\"\n",
    "            exit()\n",
    "        video_name = user_media['data'][vid_index]['id']+'.mp4'\n",
    "        video_url = user_media['data'][vid_index]['videos']['standard_resolution']['url']\n",
    "        urllib.urlretrieve(video_url, video_name)\n",
    "        return video_name"
   ]
  },
  {
   "cell_type": "code",
   "execution_count": 55,
   "metadata": {},
   "outputs": [],
   "source": [
    "# method to get id of a recent post by user\n",
    "def get_post_id(insta_username):\n",
    "    user_id = get_user_id(insta_username)\n",
    "    if user_id == None:\n",
    "        print 'User does not exist!'\n",
    "        exit()\n",
    "    request_url = (BASE_URL + '/users/%s/media/recent/?access_token=%s') % (user_id, APP_ACCESS_TOKEN)\n",
    "    print 'GET request url for recent post : %s' % request_url\n",
    "    user_media = requests.get(request_url).json()\n",
    "\n",
    "    if user_media['meta']['code'] == 200:\n",
    "        if len(user_media['data']):\n",
    "            return user_media['data'][0]['id']\n",
    "        else:\n",
    "            print 'There is no recent post of the user!'\n",
    "            exit()\n",
    "    else:\n",
    "        print 'Status code other than 200 received!'\n",
    "        exit()"
   ]
  },
  {
   "cell_type": "markdown",
   "metadata": {},
   "source": [
    "<font size = 3>\n",
    "Below is the code to like a recent post on any user.\n",
    "</font>"
   ]
  },
  {
   "cell_type": "code",
   "execution_count": null,
   "metadata": {},
   "outputs": [],
   "source": [
    "# method to like the post of user by getting it's post id\n",
    "def like_a_post(insta_username):\n",
    "    media_id = get_post_id(insta_username)\n",
    "    request_url = (BASE_URL + '/media/%s/likes') % media_id\n",
    "    payload = {\"access_token\": APP_ACCESS_TOKEN}\n",
    "    print 'POST request url to like : %s' % request_url\n",
    "    post_a_like = requests.post(request_url, payload).json()\n",
    "    if post_a_like['meta']['code'] == 200:\n",
    "        print 'Like was successful!'\n",
    "    else:\n",
    "        print 'Your like was unsuccessful. Try again!'"
   ]
  },
  {
   "cell_type": "code",
   "execution_count": null,
   "metadata": {},
   "outputs": [],
   "source": [
    "# method to get list of people liking the recent media for a user\n",
    "def get_like_list(insta_username):\n",
    "    media_id = get_post_id(insta_username)\n",
    "    request_url = (BASE_URL + '/media/%s/likes?access_token=%s') % (media_id, APP_ACCESS_TOKEN)\n",
    "    print 'GET Liked media url : %s' % request_url\n",
    "    liked_list = requests.get(request_url).json()\n",
    "    if(liked_list['meta']['code']) == 200:\n",
    "        if len(liked_list['data']):\n",
    "            print 'people who liked it :'\n",
    "            for people in liked_list['data']:\n",
    "                print people['username']\n",
    "            print 'Number of likes : %d' % len(liked_list['data'])\n",
    "        else:\n",
    "            print \"no likes on the post\"\n",
    "    else:\n",
    "        print 'some error occurred'"
   ]
  },
  {
   "cell_type": "code",
   "execution_count": 69,
   "metadata": {},
   "outputs": [],
   "source": [
    "# method to put a comment on the post of a user with help of post id\n",
    "def post_a_comment(insta_username):\n",
    "    media_id = get_post_id(insta_username)\n",
    "    comment_text = raw_input(\"Your comment: \")\n",
    "    payload = {\"access_token\": APP_ACCESS_TOKEN, \"text\" : comment_text}\n",
    "    request_url = (BASE_URL + '/media/%s/comments') % media_id\n",
    "    print 'POST url for commenting post: %s' % request_url\n",
    "\n",
    "    make_comment = requests.post(request_url, payload).json()\n",
    "\n",
    "    if make_comment['meta']['code'] == 200:\n",
    "        print \"Successfully added a new comment!\"\n",
    "    else:\n",
    "        print \"Unable to add comment. Try again!\""
   ]
  },
  {
   "cell_type": "code",
   "execution_count": 72,
   "metadata": {},
   "outputs": [
    {
     "name": "stdout",
     "output_type": "stream",
     "text": [
      "GET request url for user id : https://api.instagram.com/v1/users/search?q=forinstaproject&access_token=1777079232.3f4b954.a346d80dd2d94849981fff6218816764\n",
      "GET request url for recent post : https://api.instagram.com/v1/users/5633959407/media/recent/?access_token=1777079232.3f4b954.a346d80dd2d94849981fff6218816764\n",
      "Your comment: damn Nico, he is a failure\n",
      "POST url for commenting post: https://api.instagram.com/v1/media/1544709421665646253_5633959407/comments\n",
      "Successfully added a new comment!\n"
     ]
    }
   ],
   "source": [
    "post_a_comment('forinstaproject')"
   ]
  },
  {
   "cell_type": "code",
   "execution_count": null,
   "metadata": {},
   "outputs": [],
   "source": [
    "def get_comment_list(insta_username):\n",
    "    media_id = get_post_id(insta_username)\n",
    "    request_url = BASE_URL + '/media/%s/comments?access_token=%s' % (media_id, APP_ACCESS_TOKEN)\n",
    "    print \"GET url for Comments list : %s\" % request_url\n",
    "    print '\\n'\n",
    "    comment_list = requests.get(request_url).json()\n",
    "    if(comment_list['meta']['code']) == 200:\n",
    "        if len(comment_list['data']):\n",
    "            for comments in comment_list['data']:\n",
    "                print comments[\"from\"][\"username\"]+'  says : '+comments[\"text\"]\n",
    "                # print comments[\"text\"]"
   ]
  },
  {
   "cell_type": "code",
   "execution_count": null,
   "metadata": {},
   "outputs": [],
   "source": [
    "# method to get recent media liked by self\n",
    "def get_recent_liked():\n",
    "    request_url = BASE_URL+'/users/self/media/liked?access_token=%s' % APP_ACCESS_TOKEN\n",
    "    print \"Get url for recent likes : %s\" % request_url\n",
    "    liked_list = requests.get(request_url).json()\n",
    "    if liked_list['meta']['code'] == 200:\n",
    "        for media in liked_list['data']:\n",
    "            print \"liked for user    %s:\" % media['user']['username']\n",
    "            #print media['user']['username']\n",
    "            print \"type : %s\" % media['type']\n",
    "            if media['tags'] and media['caption']:\n",
    "                print \"tags : %s  , caption : %s\" % (media['tags'][0], media['caption']['text'])\n",
    "            print \"\\n\""
   ]
  },
  {
   "cell_type": "markdown",
   "metadata": {},
   "source": [
    "<font size=3>\n",
    "The following code uses the <font color = red><a href=\"https://textblob.readthedocs.io/en/dev/\">Text Blob</a></font> <font color = red>Library</font>\n",
    "to analyse the text comments.<br>\n",
    "It scores the sentences in the text for how much postive or negative the text on level of 0 to 1.<br><br>\n",
    "    \n",
    "Next we plot a pie chart for negative vs positive comments using <a href=\"https://matplotlib.org/contents.html\">Matplotlib</a> Library.\n",
    "\n",
    "</font>"
   ]
  },
  {
   "cell_type": "code",
   "execution_count": 65,
   "metadata": {},
   "outputs": [],
   "source": [
    "# method to analyze comments\n",
    "def analyze_comment(insta_username):\n",
    "    negative = []\n",
    "    positive = []\n",
    "    media_id = get_post_id(insta_username)\n",
    "    request_url = (BASE_URL + '/media/%s/comments/?access_token=%s') % (media_id, APP_ACCESS_TOKEN)\n",
    "    print 'GET request url : %s' % request_url\n",
    "    comment_info = requests.get(request_url).json()\n",
    "    if comment_info['meta']['code'] == 200:\n",
    "        if len(comment_info['data']):\n",
    "            print \"analyzing ....\"\n",
    "            for x in range(0, len(comment_info['data'])):\n",
    "                # comment_id = comment_info['data'][x]['id']\n",
    "                comment_text = comment_info['data'][x]['text']\n",
    "                \n",
    "                blob = TextBlob(comment_text, analyzer=NaiveBayesAnalyzer())\n",
    "                \n",
    "                if blob.sentiment.p_neg > 0.5:\n",
    "                    negative.append(blob.sentiment.p_neg)\n",
    "                if blob.sentiment.p_pos > 0.5:\n",
    "                    positive.append(blob.sentiment.p_pos)\n",
    "    slices = [len(negative), len(positive)]\n",
    "    print \"negative : %d\" % len(negative)\n",
    "    print \"positive :%d\" % len(positive)\n",
    "    cols = ['y', 'r']\n",
    "    activities = ['negative', 'positive']\n",
    "    plt.pie(slices, startangle=90, shadow=True, explode=(0.1, 0), autopct='%1.1f%%', colors=cols, labels=activities)\n",
    "    plt.show()"
   ]
  },
  {
   "cell_type": "code",
   "execution_count": 73,
   "metadata": {},
   "outputs": [
    {
     "name": "stdout",
     "output_type": "stream",
     "text": [
      "GET request url for user id : https://api.instagram.com/v1/users/search?q=forinstaprojects&access_token=1777079232.3f4b954.a346d80dd2d94849981fff6218816764\n",
      "GET request url for recent post : https://api.instagram.com/v1/users/5633959407/media/recent/?access_token=1777079232.3f4b954.a346d80dd2d94849981fff6218816764\n",
      "GET request url : https://api.instagram.com/v1/media/1544709421665646253_5633959407/comments/?access_token=1777079232.3f4b954.a346d80dd2d94849981fff6218816764\n",
      "analyzing ....\n",
      "negative : 2\n",
      "positive :4\n"
     ]
    },
    {
     "data": {
      "image/png": "[encoded data removed]",
      "text/plain": [
       "<matplotlib.figure.Figure at 0x10771ead0>"
      ]
     },
     "metadata": {},
     "output_type": "display_data"
    }
   ],
   "source": [
    "analyze_comment('forinstaprojects')"
   ]
  },
  {
   "cell_type": "code",
   "execution_count": 75,
   "metadata": {},
   "outputs": [],
   "source": [
    "# method to delete negative comments\n",
    "def delete_negative_comment(insta_username):\n",
    "    media_id = get_post_id(insta_username)\n",
    "    request_url = (BASE_URL + '/media/%s/comments/?access_token=%s') % (media_id, APP_ACCESS_TOKEN)\n",
    "    print 'GET request url : %s' % request_url\n",
    "    comment_info = requests.get(request_url).json()\n",
    "\n",
    "    if comment_info['meta']['code'] == 200:\n",
    "        if len(comment_info['data']):\n",
    "\n",
    "            for x in range(0, len(comment_info['data'])):\n",
    "                comment_id = comment_info['data'][x]['id']\n",
    "                comment_text = comment_info['data'][x]['text']\n",
    "                blob = TextBlob(comment_text, analyzer=NaiveBayesAnalyzer())\n",
    "                if blob.sentiment.p_neg > blob.sentiment.p_pos:\n",
    "                    print 'Negative comment : %s' % comment_text\n",
    "                    delete_url = (BASE_URL + '/media/%s/comments/%s/?access_token=%s') % (media_id, comment_id, APP_ACCESS_TOKEN)\n",
    "                    print 'DELETE request url : %s' % delete_url\n",
    "                    delete_info = requests.delete(delete_url).json()\n",
    "\n",
    "                    if delete_info['meta']['code'] == 200:\n",
    "                        print 'Comment successfully deleted!\\n'\n",
    "                    else:\n",
    "                        print 'Unable to delete comment!'\n",
    "                else:\n",
    "                    print 'Positive comment : %s\\n' % comment_text\n",
    "        else:\n",
    "            print 'There are no existing comments on the post!'\n",
    "    else:\n",
    "        print 'Status code other than 200 received!'"
   ]
  },
  {
   "cell_type": "code",
   "execution_count": 76,
   "metadata": {},
   "outputs": [
    {
     "name": "stdout",
     "output_type": "stream",
     "text": [
      "GET request url for user id : https://api.instagram.com/v1/users/search?q=forinstaproject&access_token=1777079232.3f4b954.a346d80dd2d94849981fff6218816764\n",
      "GET request url for recent post : https://api.instagram.com/v1/users/5633959407/media/recent/?access_token=1777079232.3f4b954.a346d80dd2d94849981fff6218816764\n",
      "GET request url : https://api.instagram.com/v1/media/1544709421665646253_5633959407/comments/?access_token=1777079232.3f4b954.a346d80dd2d94849981fff6218816764\n",
      "Positive comment : thanks\n",
      "\n",
      "Positive comment : good thank you\n",
      "\n",
      "Negative comment : A very bad post\n",
      "DELETE request url : https://api.instagram.com/v1/media/1544709421665646253_5633959407/comments/17895875494106601/?access_token=1777079232.3f4b954.a346d80dd2d94849981fff6218816764\n",
      "Comment successfully deleted!\n",
      "\n",
      "Positive comment : it's nice to see formula1 in azerbaijan\n",
      "\n",
      "Positive comment : and lewis won the championship, cheers\n",
      "\n",
      "Negative comment : damn Nico, he is a failure\n",
      "DELETE request url : https://api.instagram.com/v1/media/1544709421665646253_5633959407/comments/17907498784034270/?access_token=1777079232.3f4b954.a346d80dd2d94849981fff6218816764\n",
      "Comment successfully deleted!\n",
      "\n"
     ]
    }
   ],
   "source": [
    "delete_negative_comment('forinstaproject')"
   ]
  },
  {
   "cell_type": "code",
   "execution_count": null,
   "metadata": {},
   "outputs": [],
   "source": [
    "# execution starts from here\n",
    "def start_bot():\n",
    "    while True:\n",
    "        print '\\n'\n",
    "        print 'Hey! Welcome to instaBot!'\n",
    "        print 'Here are your menu options:'\n",
    "        print \"a.Get your own details\\n\"\n",
    "        print \"b.Get details of a user by username\\n\"\n",
    "        print \"c.Get your own recent post\\n\"\n",
    "        print \"d.Get the recent post of a user by username\\n\"\n",
    "        print \"e.Get a list of people who have liked the recent post of a user\\n\"\n",
    "        print \"f.Like the recent post of a user\\n\"\n",
    "        print \"g.Get a list of comments on the recent post of a user\\n\"\n",
    "        print \"h.Make a comment on the recent post of a user\\n\"\n",
    "        print \"i.Delete negative comments from the recent post of a user\\n\"\n",
    "        print \"j.Get Recent Media liked by self\\n\"\n",
    "        print \"k.Analyze Recent Comment\\n\"\n",
    "        print \"l.Exit\\n\"\n",
    "\n",
    "        choice = raw_input(\"Enter you choice: \")\n",
    "        if choice == \"a\":\n",
    "            self_info()\n",
    "        elif choice == \"b\":\n",
    "            insta_username = raw_input(\"Enter the username of the user: \")\n",
    "            get_user_info(insta_username)\n",
    "        elif choice == \"c\":\n",
    "            get_own_post()\n",
    "        elif choice == \"d\":\n",
    "            insta_username = raw_input(\"Enter the username of the user: \")\n",
    "            get_user_post(insta_username)\n",
    "        elif choice == \"e\":\n",
    "            insta_username = raw_input(\"Enter the username of the user: \")\n",
    "            get_like_list(insta_username)\n",
    "        elif choice == \"f\":\n",
    "            insta_username = raw_input(\"Enter the username of the user: \")\n",
    "            like_a_post(insta_username)\n",
    "        elif choice == \"g\":\n",
    "            insta_username = raw_input(\"Enter the username of the user: \")\n",
    "            get_comment_list(insta_username)\n",
    "        elif choice == \"h\":\n",
    "            insta_username = raw_input(\"Enter the username of the user: \")\n",
    "            post_a_comment(insta_username)\n",
    "        elif choice == \"i\":\n",
    "            insta_username = raw_input(\"Enter the username of the user: \")\n",
    "            delete_negative_comment(insta_username)\n",
    "        elif choice == \"j\":\n",
    "            get_recent_liked()\n",
    "        elif choice == \"k\":\n",
    "            insta_username = raw_input(\"Enter the username of the user: \")\n",
    "            analyze_comment(insta_username)\n",
    "        elif choice == \"l\":\n",
    "            exit()\n",
    "        else:\n",
    "            print \"wrong choice\""
   ]
  },
  {
   "cell_type": "code",
   "execution_count": null,
   "metadata": {},
   "outputs": [],
   "source": [
    "#start_bot()"
   ]
  },
  {
   "cell_type": "code",
   "execution_count": null,
   "metadata": {},
   "outputs": [],
   "source": [
    "#1. Write code to compare negative and positive comments on a particular's posts and plot it on a pie chart.\n",
    "\n",
    "#2. Write code to get images between certain geographical coordinates, analyse the caption and determine if\n",
    "#                                            it is about a natural calamity such as earthquake, floods etc. \n",
    "\n",
    "#3. Write code to determine number of images shared with a particular hash tag and plot the same using malplotlib. \n",
    "\n",
    "#4. Write code to do targeted commented on posts for the sake of marketing your prouct or service (ex: coffee, shoes,\n",
    "#                                                                                                      clothes)\n",
    "\n",
    "#5. Write code to do find sub-trends for an event or activity and plot a word cloud for the same\n",
    "\n",
    "#6. Write code to determine a user's interests based on hashtag analysis of recent posts and plot the same using \n",
    "#                                                                                                    matplotlib.\n",
    "\n",
    "\n",
    "\n",
    "\n"
   ]
  },
  {
   "cell_type": "code",
   "execution_count": null,
   "metadata": {},
   "outputs": [],
   "source": []
  }
 ],
 "metadata": {
  "kernelspec": {
   "display_name": "Python 2",
   "language": "python",
   "name": "python2"
  },
  "language_info": {
   "codemirror_mode": {
    "name": "ipython",
    "version": 2
   },
   "file_extension": ".py",
   "mimetype": "text/x-python",
   "name": "python",
   "nbconvert_exporter": "python",
   "pygments_lexer": "ipython2",
   "version": "2.7.14"
  }
 },
 "nbformat": 4,
 "nbformat_minor": 2
}
